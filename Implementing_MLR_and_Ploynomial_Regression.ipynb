{
  "nbformat": 4,
  "nbformat_minor": 0,
  "metadata": {
    "colab": {
      "name": "Implementing MLR and Ploynomial Regression.ipynb",
      "provenance": [],
      "authorship_tag": "ABX9TyP50c+Vh424A/alc8XhjLgb",
      "include_colab_link": true
    },
    "kernelspec": {
      "name": "python3",
      "display_name": "Python 3"
    },
    "language_info": {
      "name": "python"
    }
  },
  "cells": [
    {
      "cell_type": "markdown",
      "metadata": {
        "id": "view-in-github",
        "colab_type": "text"
      },
      "source": [
        "<a href=\"https://colab.research.google.com/github/Atharvavp/Machine-Learning-practical-3/blob/main/Implementing_MLR_and_Ploynomial_Regression.ipynb\" target=\"_parent\"><img src=\"https://colab.research.google.com/assets/colab-badge.svg\" alt=\"Open In Colab\"/></a>"
      ]
    },
    {
      "cell_type": "markdown",
      "metadata": {
        "id": "0dvUlEB-i6sI"
      },
      "source": [
        "#Clone Repo for startup_50 Dataset"
      ]
    },
    {
      "cell_type": "code",
      "metadata": {
        "colab": {
          "base_uri": "https://localhost:8080/"
        },
        "id": "ouZqSQSdi5rB",
        "outputId": "9545ef8d-fde2-45a7-d53b-6c8a92a381af"
      },
      "source": [
        "!git clone https://github.com/krishnaik06/Multiple-Linear-Regression.git"
      ],
      "execution_count": null,
      "outputs": [
        {
          "output_type": "stream",
          "text": [
            "Cloning into 'Multiple-Linear-Regression'...\n",
            "remote: Enumerating objects: 7, done.\u001b[K\n",
            "remote: Total 7 (delta 0), reused 0 (delta 0), pack-reused 7\u001b[K\n",
            "Unpacking objects: 100% (7/7), done.\n"
          ],
          "name": "stdout"
        }
      ]
    },
    {
      "cell_type": "markdown",
      "metadata": {
        "id": "lQgExY9wiUEQ"
      },
      "source": [
        "#Importing Libraries"
      ]
    },
    {
      "cell_type": "code",
      "metadata": {
        "id": "B_zk1XiViMRZ"
      },
      "source": [
        "import pandas as pd\n",
        "import numpy as np\n",
        "\n",
        "from sklearn.model_selection import train_test_split\n",
        "from sklearn.linear_model import LinearRegression\n",
        "from sklearn.metrics import r2_score\n",
        "from sklearn.metrics import mean_squared_error\n",
        "from sklearn.preprocessing import PolynomialFeatures  \n",
        "\n",
        "import matplotlib.pyplot as pl  "
      ],
      "execution_count": 94,
      "outputs": []
    },
    {
      "cell_type": "code",
      "metadata": {
        "colab": {
          "base_uri": "https://localhost:8080/"
        },
        "id": "pX8Ek7HBjRnI",
        "outputId": "1b8b5a57-acf4-4b26-c8ff-64ae5cb03160"
      },
      "source": [
        "%cd /content/Multiple-Linear-Regression\n",
        "!ls"
      ],
      "execution_count": 70,
      "outputs": [
        {
          "output_type": "stream",
          "text": [
            "/content/Multiple-Linear-Regression\n",
            "50_Startups.csv  multiple_linear_regression.py\tREADME.md\n"
          ],
          "name": "stdout"
        }
      ]
    },
    {
      "cell_type": "code",
      "metadata": {
        "colab": {
          "base_uri": "https://localhost:8080/",
          "height": 198
        },
        "id": "-62P8_bxjWx2",
        "outputId": "d5a5f6ff-c56c-4660-8d02-0b1c02cda877"
      },
      "source": [
        "data = pd.read_csv(\"50_Startups.csv\")\n",
        "data.head(5)"
      ],
      "execution_count": 104,
      "outputs": [
        {
          "output_type": "execute_result",
          "data": {
            "text/html": [
              "<div>\n",
              "<style scoped>\n",
              "    .dataframe tbody tr th:only-of-type {\n",
              "        vertical-align: middle;\n",
              "    }\n",
              "\n",
              "    .dataframe tbody tr th {\n",
              "        vertical-align: top;\n",
              "    }\n",
              "\n",
              "    .dataframe thead th {\n",
              "        text-align: right;\n",
              "    }\n",
              "</style>\n",
              "<table border=\"1\" class=\"dataframe\">\n",
              "  <thead>\n",
              "    <tr style=\"text-align: right;\">\n",
              "      <th></th>\n",
              "      <th>R&amp;D Spend</th>\n",
              "      <th>Administration</th>\n",
              "      <th>Marketing Spend</th>\n",
              "      <th>State</th>\n",
              "      <th>Profit</th>\n",
              "    </tr>\n",
              "  </thead>\n",
              "  <tbody>\n",
              "    <tr>\n",
              "      <th>0</th>\n",
              "      <td>165349.20</td>\n",
              "      <td>136897.80</td>\n",
              "      <td>471784.10</td>\n",
              "      <td>New York</td>\n",
              "      <td>192261.83</td>\n",
              "    </tr>\n",
              "    <tr>\n",
              "      <th>1</th>\n",
              "      <td>162597.70</td>\n",
              "      <td>151377.59</td>\n",
              "      <td>443898.53</td>\n",
              "      <td>California</td>\n",
              "      <td>191792.06</td>\n",
              "    </tr>\n",
              "    <tr>\n",
              "      <th>2</th>\n",
              "      <td>153441.51</td>\n",
              "      <td>101145.55</td>\n",
              "      <td>407934.54</td>\n",
              "      <td>Florida</td>\n",
              "      <td>191050.39</td>\n",
              "    </tr>\n",
              "    <tr>\n",
              "      <th>3</th>\n",
              "      <td>144372.41</td>\n",
              "      <td>118671.85</td>\n",
              "      <td>383199.62</td>\n",
              "      <td>New York</td>\n",
              "      <td>182901.99</td>\n",
              "    </tr>\n",
              "    <tr>\n",
              "      <th>4</th>\n",
              "      <td>142107.34</td>\n",
              "      <td>91391.77</td>\n",
              "      <td>366168.42</td>\n",
              "      <td>Florida</td>\n",
              "      <td>166187.94</td>\n",
              "    </tr>\n",
              "  </tbody>\n",
              "</table>\n",
              "</div>"
            ],
            "text/plain": [
              "   R&D Spend  Administration  Marketing Spend       State     Profit\n",
              "0  165349.20       136897.80        471784.10    New York  192261.83\n",
              "1  162597.70       151377.59        443898.53  California  191792.06\n",
              "2  153441.51       101145.55        407934.54     Florida  191050.39\n",
              "3  144372.41       118671.85        383199.62    New York  182901.99\n",
              "4  142107.34        91391.77        366168.42     Florida  166187.94"
            ]
          },
          "metadata": {
            "tags": []
          },
          "execution_count": 104
        }
      ]
    },
    {
      "cell_type": "code",
      "metadata": {
        "id": "HAD3OKshjkid"
      },
      "source": [
        "x = data.drop(\"Profit\", axis = 1)\n",
        "y = data['Profit']"
      ],
      "execution_count": 105,
      "outputs": []
    },
    {
      "cell_type": "code",
      "metadata": {
        "colab": {
          "base_uri": "https://localhost:8080/",
          "height": 1000
        },
        "id": "44-wboDhk1ux",
        "outputId": "24c21c7e-3bdc-4f60-916d-bbe509f35fe6"
      },
      "source": [
        "state = pd.get_dummies(x)\n",
        "state = state.iloc[:, -3:]\n",
        "x=pd.concat([x,state], axis=1)\n",
        "x = x.drop(\"State\", axis = 1)\n",
        "x"
      ],
      "execution_count": 106,
      "outputs": [
        {
          "output_type": "execute_result",
          "data": {
            "text/html": [
              "<div>\n",
              "<style scoped>\n",
              "    .dataframe tbody tr th:only-of-type {\n",
              "        vertical-align: middle;\n",
              "    }\n",
              "\n",
              "    .dataframe tbody tr th {\n",
              "        vertical-align: top;\n",
              "    }\n",
              "\n",
              "    .dataframe thead th {\n",
              "        text-align: right;\n",
              "    }\n",
              "</style>\n",
              "<table border=\"1\" class=\"dataframe\">\n",
              "  <thead>\n",
              "    <tr style=\"text-align: right;\">\n",
              "      <th></th>\n",
              "      <th>R&amp;D Spend</th>\n",
              "      <th>Administration</th>\n",
              "      <th>Marketing Spend</th>\n",
              "      <th>State_California</th>\n",
              "      <th>State_Florida</th>\n",
              "      <th>State_New York</th>\n",
              "    </tr>\n",
              "  </thead>\n",
              "  <tbody>\n",
              "    <tr>\n",
              "      <th>0</th>\n",
              "      <td>165349.20</td>\n",
              "      <td>136897.80</td>\n",
              "      <td>471784.10</td>\n",
              "      <td>0</td>\n",
              "      <td>0</td>\n",
              "      <td>1</td>\n",
              "    </tr>\n",
              "    <tr>\n",
              "      <th>1</th>\n",
              "      <td>162597.70</td>\n",
              "      <td>151377.59</td>\n",
              "      <td>443898.53</td>\n",
              "      <td>1</td>\n",
              "      <td>0</td>\n",
              "      <td>0</td>\n",
              "    </tr>\n",
              "    <tr>\n",
              "      <th>2</th>\n",
              "      <td>153441.51</td>\n",
              "      <td>101145.55</td>\n",
              "      <td>407934.54</td>\n",
              "      <td>0</td>\n",
              "      <td>1</td>\n",
              "      <td>0</td>\n",
              "    </tr>\n",
              "    <tr>\n",
              "      <th>3</th>\n",
              "      <td>144372.41</td>\n",
              "      <td>118671.85</td>\n",
              "      <td>383199.62</td>\n",
              "      <td>0</td>\n",
              "      <td>0</td>\n",
              "      <td>1</td>\n",
              "    </tr>\n",
              "    <tr>\n",
              "      <th>4</th>\n",
              "      <td>142107.34</td>\n",
              "      <td>91391.77</td>\n",
              "      <td>366168.42</td>\n",
              "      <td>0</td>\n",
              "      <td>1</td>\n",
              "      <td>0</td>\n",
              "    </tr>\n",
              "    <tr>\n",
              "      <th>5</th>\n",
              "      <td>131876.90</td>\n",
              "      <td>99814.71</td>\n",
              "      <td>362861.36</td>\n",
              "      <td>0</td>\n",
              "      <td>0</td>\n",
              "      <td>1</td>\n",
              "    </tr>\n",
              "    <tr>\n",
              "      <th>6</th>\n",
              "      <td>134615.46</td>\n",
              "      <td>147198.87</td>\n",
              "      <td>127716.82</td>\n",
              "      <td>1</td>\n",
              "      <td>0</td>\n",
              "      <td>0</td>\n",
              "    </tr>\n",
              "    <tr>\n",
              "      <th>7</th>\n",
              "      <td>130298.13</td>\n",
              "      <td>145530.06</td>\n",
              "      <td>323876.68</td>\n",
              "      <td>0</td>\n",
              "      <td>1</td>\n",
              "      <td>0</td>\n",
              "    </tr>\n",
              "    <tr>\n",
              "      <th>8</th>\n",
              "      <td>120542.52</td>\n",
              "      <td>148718.95</td>\n",
              "      <td>311613.29</td>\n",
              "      <td>0</td>\n",
              "      <td>0</td>\n",
              "      <td>1</td>\n",
              "    </tr>\n",
              "    <tr>\n",
              "      <th>9</th>\n",
              "      <td>123334.88</td>\n",
              "      <td>108679.17</td>\n",
              "      <td>304981.62</td>\n",
              "      <td>1</td>\n",
              "      <td>0</td>\n",
              "      <td>0</td>\n",
              "    </tr>\n",
              "    <tr>\n",
              "      <th>10</th>\n",
              "      <td>101913.08</td>\n",
              "      <td>110594.11</td>\n",
              "      <td>229160.95</td>\n",
              "      <td>0</td>\n",
              "      <td>1</td>\n",
              "      <td>0</td>\n",
              "    </tr>\n",
              "    <tr>\n",
              "      <th>11</th>\n",
              "      <td>100671.96</td>\n",
              "      <td>91790.61</td>\n",
              "      <td>249744.55</td>\n",
              "      <td>1</td>\n",
              "      <td>0</td>\n",
              "      <td>0</td>\n",
              "    </tr>\n",
              "    <tr>\n",
              "      <th>12</th>\n",
              "      <td>93863.75</td>\n",
              "      <td>127320.38</td>\n",
              "      <td>249839.44</td>\n",
              "      <td>0</td>\n",
              "      <td>1</td>\n",
              "      <td>0</td>\n",
              "    </tr>\n",
              "    <tr>\n",
              "      <th>13</th>\n",
              "      <td>91992.39</td>\n",
              "      <td>135495.07</td>\n",
              "      <td>252664.93</td>\n",
              "      <td>1</td>\n",
              "      <td>0</td>\n",
              "      <td>0</td>\n",
              "    </tr>\n",
              "    <tr>\n",
              "      <th>14</th>\n",
              "      <td>119943.24</td>\n",
              "      <td>156547.42</td>\n",
              "      <td>256512.92</td>\n",
              "      <td>0</td>\n",
              "      <td>1</td>\n",
              "      <td>0</td>\n",
              "    </tr>\n",
              "    <tr>\n",
              "      <th>15</th>\n",
              "      <td>114523.61</td>\n",
              "      <td>122616.84</td>\n",
              "      <td>261776.23</td>\n",
              "      <td>0</td>\n",
              "      <td>0</td>\n",
              "      <td>1</td>\n",
              "    </tr>\n",
              "    <tr>\n",
              "      <th>16</th>\n",
              "      <td>78013.11</td>\n",
              "      <td>121597.55</td>\n",
              "      <td>264346.06</td>\n",
              "      <td>1</td>\n",
              "      <td>0</td>\n",
              "      <td>0</td>\n",
              "    </tr>\n",
              "    <tr>\n",
              "      <th>17</th>\n",
              "      <td>94657.16</td>\n",
              "      <td>145077.58</td>\n",
              "      <td>282574.31</td>\n",
              "      <td>0</td>\n",
              "      <td>0</td>\n",
              "      <td>1</td>\n",
              "    </tr>\n",
              "    <tr>\n",
              "      <th>18</th>\n",
              "      <td>91749.16</td>\n",
              "      <td>114175.79</td>\n",
              "      <td>294919.57</td>\n",
              "      <td>0</td>\n",
              "      <td>1</td>\n",
              "      <td>0</td>\n",
              "    </tr>\n",
              "    <tr>\n",
              "      <th>19</th>\n",
              "      <td>86419.70</td>\n",
              "      <td>153514.11</td>\n",
              "      <td>0.00</td>\n",
              "      <td>0</td>\n",
              "      <td>0</td>\n",
              "      <td>1</td>\n",
              "    </tr>\n",
              "    <tr>\n",
              "      <th>20</th>\n",
              "      <td>76253.86</td>\n",
              "      <td>113867.30</td>\n",
              "      <td>298664.47</td>\n",
              "      <td>1</td>\n",
              "      <td>0</td>\n",
              "      <td>0</td>\n",
              "    </tr>\n",
              "    <tr>\n",
              "      <th>21</th>\n",
              "      <td>78389.47</td>\n",
              "      <td>153773.43</td>\n",
              "      <td>299737.29</td>\n",
              "      <td>0</td>\n",
              "      <td>0</td>\n",
              "      <td>1</td>\n",
              "    </tr>\n",
              "    <tr>\n",
              "      <th>22</th>\n",
              "      <td>73994.56</td>\n",
              "      <td>122782.75</td>\n",
              "      <td>303319.26</td>\n",
              "      <td>0</td>\n",
              "      <td>1</td>\n",
              "      <td>0</td>\n",
              "    </tr>\n",
              "    <tr>\n",
              "      <th>23</th>\n",
              "      <td>67532.53</td>\n",
              "      <td>105751.03</td>\n",
              "      <td>304768.73</td>\n",
              "      <td>0</td>\n",
              "      <td>1</td>\n",
              "      <td>0</td>\n",
              "    </tr>\n",
              "    <tr>\n",
              "      <th>24</th>\n",
              "      <td>77044.01</td>\n",
              "      <td>99281.34</td>\n",
              "      <td>140574.81</td>\n",
              "      <td>0</td>\n",
              "      <td>0</td>\n",
              "      <td>1</td>\n",
              "    </tr>\n",
              "    <tr>\n",
              "      <th>25</th>\n",
              "      <td>64664.71</td>\n",
              "      <td>139553.16</td>\n",
              "      <td>137962.62</td>\n",
              "      <td>1</td>\n",
              "      <td>0</td>\n",
              "      <td>0</td>\n",
              "    </tr>\n",
              "    <tr>\n",
              "      <th>26</th>\n",
              "      <td>75328.87</td>\n",
              "      <td>144135.98</td>\n",
              "      <td>134050.07</td>\n",
              "      <td>0</td>\n",
              "      <td>1</td>\n",
              "      <td>0</td>\n",
              "    </tr>\n",
              "    <tr>\n",
              "      <th>27</th>\n",
              "      <td>72107.60</td>\n",
              "      <td>127864.55</td>\n",
              "      <td>353183.81</td>\n",
              "      <td>0</td>\n",
              "      <td>0</td>\n",
              "      <td>1</td>\n",
              "    </tr>\n",
              "    <tr>\n",
              "      <th>28</th>\n",
              "      <td>66051.52</td>\n",
              "      <td>182645.56</td>\n",
              "      <td>118148.20</td>\n",
              "      <td>0</td>\n",
              "      <td>1</td>\n",
              "      <td>0</td>\n",
              "    </tr>\n",
              "    <tr>\n",
              "      <th>29</th>\n",
              "      <td>65605.48</td>\n",
              "      <td>153032.06</td>\n",
              "      <td>107138.38</td>\n",
              "      <td>0</td>\n",
              "      <td>0</td>\n",
              "      <td>1</td>\n",
              "    </tr>\n",
              "    <tr>\n",
              "      <th>30</th>\n",
              "      <td>61994.48</td>\n",
              "      <td>115641.28</td>\n",
              "      <td>91131.24</td>\n",
              "      <td>0</td>\n",
              "      <td>1</td>\n",
              "      <td>0</td>\n",
              "    </tr>\n",
              "    <tr>\n",
              "      <th>31</th>\n",
              "      <td>61136.38</td>\n",
              "      <td>152701.92</td>\n",
              "      <td>88218.23</td>\n",
              "      <td>0</td>\n",
              "      <td>0</td>\n",
              "      <td>1</td>\n",
              "    </tr>\n",
              "    <tr>\n",
              "      <th>32</th>\n",
              "      <td>63408.86</td>\n",
              "      <td>129219.61</td>\n",
              "      <td>46085.25</td>\n",
              "      <td>1</td>\n",
              "      <td>0</td>\n",
              "      <td>0</td>\n",
              "    </tr>\n",
              "    <tr>\n",
              "      <th>33</th>\n",
              "      <td>55493.95</td>\n",
              "      <td>103057.49</td>\n",
              "      <td>214634.81</td>\n",
              "      <td>0</td>\n",
              "      <td>1</td>\n",
              "      <td>0</td>\n",
              "    </tr>\n",
              "    <tr>\n",
              "      <th>34</th>\n",
              "      <td>46426.07</td>\n",
              "      <td>157693.92</td>\n",
              "      <td>210797.67</td>\n",
              "      <td>1</td>\n",
              "      <td>0</td>\n",
              "      <td>0</td>\n",
              "    </tr>\n",
              "    <tr>\n",
              "      <th>35</th>\n",
              "      <td>46014.02</td>\n",
              "      <td>85047.44</td>\n",
              "      <td>205517.64</td>\n",
              "      <td>0</td>\n",
              "      <td>0</td>\n",
              "      <td>1</td>\n",
              "    </tr>\n",
              "    <tr>\n",
              "      <th>36</th>\n",
              "      <td>28663.76</td>\n",
              "      <td>127056.21</td>\n",
              "      <td>201126.82</td>\n",
              "      <td>0</td>\n",
              "      <td>1</td>\n",
              "      <td>0</td>\n",
              "    </tr>\n",
              "    <tr>\n",
              "      <th>37</th>\n",
              "      <td>44069.95</td>\n",
              "      <td>51283.14</td>\n",
              "      <td>197029.42</td>\n",
              "      <td>1</td>\n",
              "      <td>0</td>\n",
              "      <td>0</td>\n",
              "    </tr>\n",
              "    <tr>\n",
              "      <th>38</th>\n",
              "      <td>20229.59</td>\n",
              "      <td>65947.93</td>\n",
              "      <td>185265.10</td>\n",
              "      <td>0</td>\n",
              "      <td>0</td>\n",
              "      <td>1</td>\n",
              "    </tr>\n",
              "    <tr>\n",
              "      <th>39</th>\n",
              "      <td>38558.51</td>\n",
              "      <td>82982.09</td>\n",
              "      <td>174999.30</td>\n",
              "      <td>1</td>\n",
              "      <td>0</td>\n",
              "      <td>0</td>\n",
              "    </tr>\n",
              "    <tr>\n",
              "      <th>40</th>\n",
              "      <td>28754.33</td>\n",
              "      <td>118546.05</td>\n",
              "      <td>172795.67</td>\n",
              "      <td>1</td>\n",
              "      <td>0</td>\n",
              "      <td>0</td>\n",
              "    </tr>\n",
              "    <tr>\n",
              "      <th>41</th>\n",
              "      <td>27892.92</td>\n",
              "      <td>84710.77</td>\n",
              "      <td>164470.71</td>\n",
              "      <td>0</td>\n",
              "      <td>1</td>\n",
              "      <td>0</td>\n",
              "    </tr>\n",
              "    <tr>\n",
              "      <th>42</th>\n",
              "      <td>23640.93</td>\n",
              "      <td>96189.63</td>\n",
              "      <td>148001.11</td>\n",
              "      <td>1</td>\n",
              "      <td>0</td>\n",
              "      <td>0</td>\n",
              "    </tr>\n",
              "    <tr>\n",
              "      <th>43</th>\n",
              "      <td>15505.73</td>\n",
              "      <td>127382.30</td>\n",
              "      <td>35534.17</td>\n",
              "      <td>0</td>\n",
              "      <td>0</td>\n",
              "      <td>1</td>\n",
              "    </tr>\n",
              "    <tr>\n",
              "      <th>44</th>\n",
              "      <td>22177.74</td>\n",
              "      <td>154806.14</td>\n",
              "      <td>28334.72</td>\n",
              "      <td>1</td>\n",
              "      <td>0</td>\n",
              "      <td>0</td>\n",
              "    </tr>\n",
              "    <tr>\n",
              "      <th>45</th>\n",
              "      <td>1000.23</td>\n",
              "      <td>124153.04</td>\n",
              "      <td>1903.93</td>\n",
              "      <td>0</td>\n",
              "      <td>0</td>\n",
              "      <td>1</td>\n",
              "    </tr>\n",
              "    <tr>\n",
              "      <th>46</th>\n",
              "      <td>1315.46</td>\n",
              "      <td>115816.21</td>\n",
              "      <td>297114.46</td>\n",
              "      <td>0</td>\n",
              "      <td>1</td>\n",
              "      <td>0</td>\n",
              "    </tr>\n",
              "    <tr>\n",
              "      <th>47</th>\n",
              "      <td>0.00</td>\n",
              "      <td>135426.92</td>\n",
              "      <td>0.00</td>\n",
              "      <td>1</td>\n",
              "      <td>0</td>\n",
              "      <td>0</td>\n",
              "    </tr>\n",
              "    <tr>\n",
              "      <th>48</th>\n",
              "      <td>542.05</td>\n",
              "      <td>51743.15</td>\n",
              "      <td>0.00</td>\n",
              "      <td>0</td>\n",
              "      <td>0</td>\n",
              "      <td>1</td>\n",
              "    </tr>\n",
              "    <tr>\n",
              "      <th>49</th>\n",
              "      <td>0.00</td>\n",
              "      <td>116983.80</td>\n",
              "      <td>45173.06</td>\n",
              "      <td>1</td>\n",
              "      <td>0</td>\n",
              "      <td>0</td>\n",
              "    </tr>\n",
              "  </tbody>\n",
              "</table>\n",
              "</div>"
            ],
            "text/plain": [
              "    R&D Spend  Administration  ...  State_Florida  State_New York\n",
              "0   165349.20       136897.80  ...              0               1\n",
              "1   162597.70       151377.59  ...              0               0\n",
              "2   153441.51       101145.55  ...              1               0\n",
              "3   144372.41       118671.85  ...              0               1\n",
              "4   142107.34        91391.77  ...              1               0\n",
              "5   131876.90        99814.71  ...              0               1\n",
              "6   134615.46       147198.87  ...              0               0\n",
              "7   130298.13       145530.06  ...              1               0\n",
              "8   120542.52       148718.95  ...              0               1\n",
              "9   123334.88       108679.17  ...              0               0\n",
              "10  101913.08       110594.11  ...              1               0\n",
              "11  100671.96        91790.61  ...              0               0\n",
              "12   93863.75       127320.38  ...              1               0\n",
              "13   91992.39       135495.07  ...              0               0\n",
              "14  119943.24       156547.42  ...              1               0\n",
              "15  114523.61       122616.84  ...              0               1\n",
              "16   78013.11       121597.55  ...              0               0\n",
              "17   94657.16       145077.58  ...              0               1\n",
              "18   91749.16       114175.79  ...              1               0\n",
              "19   86419.70       153514.11  ...              0               1\n",
              "20   76253.86       113867.30  ...              0               0\n",
              "21   78389.47       153773.43  ...              0               1\n",
              "22   73994.56       122782.75  ...              1               0\n",
              "23   67532.53       105751.03  ...              1               0\n",
              "24   77044.01        99281.34  ...              0               1\n",
              "25   64664.71       139553.16  ...              0               0\n",
              "26   75328.87       144135.98  ...              1               0\n",
              "27   72107.60       127864.55  ...              0               1\n",
              "28   66051.52       182645.56  ...              1               0\n",
              "29   65605.48       153032.06  ...              0               1\n",
              "30   61994.48       115641.28  ...              1               0\n",
              "31   61136.38       152701.92  ...              0               1\n",
              "32   63408.86       129219.61  ...              0               0\n",
              "33   55493.95       103057.49  ...              1               0\n",
              "34   46426.07       157693.92  ...              0               0\n",
              "35   46014.02        85047.44  ...              0               1\n",
              "36   28663.76       127056.21  ...              1               0\n",
              "37   44069.95        51283.14  ...              0               0\n",
              "38   20229.59        65947.93  ...              0               1\n",
              "39   38558.51        82982.09  ...              0               0\n",
              "40   28754.33       118546.05  ...              0               0\n",
              "41   27892.92        84710.77  ...              1               0\n",
              "42   23640.93        96189.63  ...              0               0\n",
              "43   15505.73       127382.30  ...              0               1\n",
              "44   22177.74       154806.14  ...              0               0\n",
              "45    1000.23       124153.04  ...              0               1\n",
              "46    1315.46       115816.21  ...              1               0\n",
              "47       0.00       135426.92  ...              0               0\n",
              "48     542.05        51743.15  ...              0               1\n",
              "49       0.00       116983.80  ...              0               0\n",
              "\n",
              "[50 rows x 6 columns]"
            ]
          },
          "metadata": {
            "tags": []
          },
          "execution_count": 106
        }
      ]
    },
    {
      "cell_type": "code",
      "metadata": {
        "id": "AHHDyd-vll3_"
      },
      "source": [
        "x_train, x_test, y_train, y_test = train_test_split(x, y, test_size = 0.2, random_state = 48)"
      ],
      "execution_count": 107,
      "outputs": []
    },
    {
      "cell_type": "markdown",
      "metadata": {
        "id": "OY_-0UQVuCnz"
      },
      "source": [
        "#Multiple Linear Regression"
      ]
    },
    {
      "cell_type": "code",
      "metadata": {
        "colab": {
          "base_uri": "https://localhost:8080/"
        },
        "id": "-vA6rNnwrH1f",
        "outputId": "2102926e-38e2-4aa6-fdb1-59c55051e03a"
      },
      "source": [
        "Lr = LinearRegression(fit_intercept=True, normalize=True, copy_X=True, n_jobs=None)\n",
        "Lr.fit(x_train, y_train) "
      ],
      "execution_count": 108,
      "outputs": [
        {
          "output_type": "execute_result",
          "data": {
            "text/plain": [
              "LinearRegression(copy_X=True, fit_intercept=True, n_jobs=None, normalize=True)"
            ]
          },
          "metadata": {
            "tags": []
          },
          "execution_count": 108
        }
      ]
    },
    {
      "cell_type": "code",
      "metadata": {
        "id": "EhsB7nFesnol"
      },
      "source": [
        "y_pred = Lr.predict(x_test)"
      ],
      "execution_count": 109,
      "outputs": []
    },
    {
      "cell_type": "code",
      "metadata": {
        "colab": {
          "base_uri": "https://localhost:8080/"
        },
        "id": "xKglGpFDsx2J",
        "outputId": "b7e87f06-7fe9-4ee2-efa8-7c9d1f008615"
      },
      "source": [
        "score=r2_score(y_test,y_pred)\n",
        "print('r2 score is',score)\n",
        "print('mean_sqrd_error is ',mean_squared_error(y_test,y_pred))\n",
        "print('root_mean_squared error of is ',np.sqrt(mean_squared_error(y_test,y_pred)))"
      ],
      "execution_count": 110,
      "outputs": [
        {
          "output_type": "stream",
          "text": [
            "r2 score is 0.9415657621189044\n",
            "mean_sqrd_error is  118137540.42427102\n",
            "root_mean_squared error of is  10869.109458657182\n"
          ],
          "name": "stdout"
        }
      ]
    },
    {
      "cell_type": "markdown",
      "metadata": {
        "id": "vz4dH3oGuKys"
      },
      "source": [
        "#Polynomial Linear Regression"
      ]
    },
    {
      "cell_type": "code",
      "metadata": {
        "colab": {
          "base_uri": "https://localhost:8080/"
        },
        "id": "F1CJgjBCtAey",
        "outputId": "6b4ec955-6e2d-4953-82cc-a21718bb7a7d"
      },
      "source": [
        "poly= PolynomialFeatures(degree= 2)  \n",
        "x_poly = poly.fit_transform(x_train)  \n",
        "Lr.fit(x_poly, y_train)  "
      ],
      "execution_count": 93,
      "outputs": [
        {
          "output_type": "execute_result",
          "data": {
            "text/plain": [
              "LinearRegression(copy_X=True, fit_intercept=True, n_jobs=None, normalize=True)"
            ]
          },
          "metadata": {
            "tags": []
          },
          "execution_count": 93
        }
      ]
    },
    {
      "cell_type": "code",
      "metadata": {
        "id": "YuV3Aq42yYTv"
      },
      "source": [
        "y_train = list(y_train)\n",
        "y_train"
      ],
      "execution_count": null,
      "outputs": []
    },
    {
      "cell_type": "code",
      "metadata": {
        "id": "zYOWiIijyTIH"
      },
      "source": [
        ""
      ],
      "execution_count": null,
      "outputs": []
    }
  ]
}